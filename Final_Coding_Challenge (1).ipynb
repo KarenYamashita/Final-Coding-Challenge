{
  "nbformat": 4,
  "nbformat_minor": 0,
  "metadata": {
    "colab": {
      "name": "Final Coding Challenge.ipynb",
      "version": "0.3.2",
      "provenance": [],
      "collapsed_sections": [
        "QdgbG7UAWdZp",
        "zjRa1gGKO3DM"
      ]
    },
    "kernelspec": {
      "name": "python3",
      "display_name": "Python 3"
    }
  },
  "cells": [
    {
      "cell_type": "markdown",
      "metadata": {
        "id": "QdgbG7UAWdZp",
        "colab_type": "text"
      },
      "source": [
        "# **The Data**"
      ]
    },
    {
      "cell_type": "code",
      "metadata": {
        "id": "TWxduogeYWzr",
        "colab_type": "code",
        "outputId": "1f4c5d9e-b58b-46d6-b8d5-6acd9d63eb7f",
        "colab": {
          "base_uri": "https://localhost:8080/",
          "height": 55
        }
      },
      "source": [
        "# Load the Drive helper and mount\n",
        "from google.colab import drive\n",
        "drive.mount('/content/drive/')"
      ],
      "execution_count": 0,
      "outputs": [
        {
          "output_type": "stream",
          "text": [
            "Drive already mounted at /content/drive/; to attempt to forcibly remount, call drive.mount(\"/content/drive/\", force_remount=True).\n"
          ],
          "name": "stdout"
        }
      ]
    },
    {
      "cell_type": "code",
      "metadata": {
        "id": "8wQNBkBPWOUs",
        "colab_type": "code",
        "colab": {}
      },
      "source": [
        "#import necessary modules\n",
        "import pandas as pd\n",
        "import numpy as np\n",
        "from matplotlib import pyplot as plt"
      ],
      "execution_count": 0,
      "outputs": []
    },
    {
      "cell_type": "code",
      "metadata": {
        "id": "n0kPhac-Z9YH",
        "colab_type": "code",
        "colab": {}
      },
      "source": [
        "#read raw .csv file into dataframe\n",
        "df = pd.read_csv('/content/drive/My Drive/Fccdata.csv')\n",
        "df = df.replace(-999, np.nan)\n",
        "df.set_index('OBJECTID', inplace=True)\n",
        "droplist=['Georeferencing Extent','GlobalID','ID','Georeferenced By','Georeference Scale','Time Completed','SAR Number','Uncertainty Radius','Elevation','NPS Case Number','Time Initiated','Date Completed','Report Author','Medical or Injury','Georeference Type','Georeferencing Date','YOSAR Classic','Georeferencing Path','Mutual Aid?','Georeferencing Path','Georeference Source','Georeference Datum','Vertical Movement','Georeference Path','Unnamed: 45','Unnamed: 46']\n",
        "dfedited = df.drop(droplist, axis=1)"
      ],
      "execution_count": 0,
      "outputs": []
    },
    {
      "cell_type": "markdown",
      "metadata": {
        "id": "L9LzuJ_Nsea0",
        "colab_type": "text"
      },
      "source": [
        "# How to Run\n",
        "In order to run this code go in the order of the code blocks. At some points there will be a message commented in with #IMPORTANT these messages have to do with setting the index of the  data frame being analyzed. It is important to run these once then comment them out with a # symbol then run the code again."
      ]
    },
    {
      "cell_type": "markdown",
      "metadata": {
        "id": "zjRa1gGKO3DM",
        "colab_type": "text"
      },
      "source": [
        "# **Answer Some Questions About the Data**"
      ]
    },
    {
      "cell_type": "code",
      "metadata": {
        "id": "pE7vE40sQtZd",
        "colab_type": "code",
        "outputId": "73779a32-4096-4e9d-f4c7-781c93dd0123",
        "colab": {
          "base_uri": "https://localhost:8080/",
          "height": 35
        }
      },
      "source": [
        "#How many fatalities were there?\n",
        "fatalities = 0 #Initialize counter\n",
        "for idx, val in dfedited.iterrows(): #iterate through all the rows of data\n",
        "  k = val['Rescue Disposition']\n",
        "  if k == 'Fatality': #if incident resulted in a fatality increment fatality counter\n",
        "    fatalities = fatalities + 1\n",
        "    \n",
        "print('There were',fatalities,'fatalities in Yosemite reported by YOSAR from 2001 to 2011.')"
      ],
      "execution_count": 0,
      "outputs": [
        {
          "output_type": "stream",
          "text": [
            "There were 69 fatalities in Yosemite reported by YOSAR from 2001 to 2011.\n"
          ],
          "name": "stdout"
        }
      ]
    },
    {
      "cell_type": "code",
      "metadata": {
        "id": "UPzXFAyQzCXo",
        "colab_type": "code",
        "outputId": "49e27205-05a2-49e9-a8ec-08546e46cbd4",
        "colab": {
          "base_uri": "https://localhost:8080/",
          "height": 55
        }
      },
      "source": [
        "#Is there a day of week most incidents occur?\n",
        "Monday = 0 #Initialize a coutner for everyday of the week\n",
        "Tuesday = 0\n",
        "Wednesday = 0\n",
        "Thursday = 0\n",
        "Friday = 0\n",
        "Saturday = 0\n",
        "Sunday = 0\n",
        "\n",
        "for idx, val in dfedited.iterrows(): #Iterate through all rows and increment day coutner incident occured on\n",
        "  k = val['Day of Week']\n",
        "  if k == 'Monday':\n",
        "    Monday = Monday+1\n",
        "  elif k == 'Tuesday':\n",
        "    Tuesday = Tuesday+1\n",
        "  elif k == 'Wednesday':\n",
        "    Wednesday = Wednesday+1\n",
        "  elif k == 'Thursday':\n",
        "    Thursday = Thursday+1\n",
        "  elif k == 'Friday':\n",
        "    Friday = Friday+1\n",
        "  elif k == 'Saturday':\n",
        "    Saturday = Saturday+1\n",
        "  else:\n",
        "    Sunday = Sunday+1\n",
        "    \n",
        "days = [Monday, Tuesday, Wednesday, Thursday, Friday, Saturday, Sunday]\n",
        "maxday = np.argmax(days) + 1\n",
        "\n",
        "print('The most number of incidents have occured on the',maxday,'th day of the week (Sunday).', days[-1], 'incidents have occured on Sundays.')"
      ],
      "execution_count": 0,
      "outputs": [
        {
          "output_type": "stream",
          "text": [
            "The most number of incidents have occured on the 7 th day of the week (Sunday). 410 incidents have occured on Sundays.\n"
          ],
          "name": "stdout"
        }
      ]
    },
    {
      "cell_type": "code",
      "metadata": {
        "id": "kCtTpzCKO603",
        "colab_type": "code",
        "outputId": "87f7bfb2-29f2-4579-9b85-eb3700a7a744",
        "colab": {
          "base_uri": "https://localhost:8080/",
          "height": 55
        }
      },
      "source": [
        "#What is the most common type of Incident?\n",
        "types = [] #Empty list to hold unique incident types\n",
        "incrementer = [0]*27 #Incrementer to keep track of how many times an incident type occured\n",
        "for idx, val in dfedited.iterrows(): #Increment through data and find unqiue types of accidents\n",
        "  k = val['Medical or Injury Type']\n",
        "  if k in types:\n",
        "    pass\n",
        "  else:\n",
        "    types.append(k)\n",
        "    \n",
        "for idx, val in dfedited.iterrows(): #increment through the rows and increase coutner for every incident of each type\n",
        "  k = val['Medical or Injury Type']\n",
        "  if k == 'Other':\n",
        "    incrementer[0] = incrementer[0]+1\n",
        "  elif k == 'Hypothermia':\n",
        "    incrementer[1] = incrementer[1]+1\n",
        "  elif k == 'Minor or Extremity - Upper':\n",
        "    incrementer[2] = incrementer[2]+1\n",
        "  elif k == 'Major Trauma - Adult':\n",
        "    incrementer[3] = incrementer[3]+1\n",
        "  elif k == 'Minor or Extremity - Lower':\n",
        "    incrementer[4] = incrementer[4]+1\n",
        "  elif k == 'Heat Illness and Dehydration':\n",
        "    incrementer[5] = incrementer[5]+1\n",
        "  elif k == 'Altered Mental Status/Altered Level of Consciousness (ALOC)':\n",
        "    incrementer[6] = incrementer[6]+1\n",
        "  elif k == 'Pediatric - Major Trauma':\n",
        "    incrementer[7] = incrementer[7]+1\n",
        "  elif k == 'Respiratory Distress':\n",
        "    incrementer[8] = incrementer[8]+1\n",
        "  elif k == 'Altitude Illness':\n",
        "    incrementer[9] = incrementer[9]+1\n",
        "  elif k == 'Abdominal Pain':\n",
        "    incrementer[10] = incrementer[10]+1\n",
        "  elif k == 'Allergic Reactions':\n",
        "    incrementer[11] = incrementer[11]+1\n",
        "  elif k == 'Cardiac Arrest (Adult Medical)':\n",
        "    incrementer[12] = incrementer[12]+1\n",
        "  elif k == 'Seizures':\n",
        "    incrementer[13] = incrementer[13]+1\n",
        "  elif k == 'Chest Pain - Cardiac':\n",
        "    incrementer[14] = incrementer[14]+1\n",
        "  elif k == 'Near Drowning':\n",
        "    incrementer[15] = incrementer[15]+1\n",
        "  elif k == 'Ingestion/Poisoning':\n",
        "    incrementer[16] = incrementer[16]+1\n",
        "  elif k == 'Shock Without Trauma':\n",
        "    incrementer[17] = incrementer[17]+1\n",
        "  elif k == ' ':\n",
        "    incrementer[18] = incrementer[18]+1\n",
        "  elif k == 'Bites ad Stings':\n",
        "    incrementer[19] = incrementer[19]+1\n",
        "  elif k == 'Vaginal Bleeding':\n",
        "    incrementer[20] = incrementer[20]+1\n",
        "  elif k == 'Electrical and Lightning Injuries':\n",
        "    incrementer[21] = incrementer[21]+1\n",
        "  elif k == 'Eye Trauma':\n",
        "    incrementer[22] = incrementer[22]+1\n",
        "  elif k == 'Frostbite':\n",
        "    incrementer[23] = incrementer[23]+1\n",
        "  elif k == 'nan':\n",
        "    incrementer[24] = incrementer[24]+1\n",
        "  elif k == 'Pediatric – Medical Illness/Fever':\n",
        "    incrementer[25] = incrementer[25]+1\n",
        "  elif k == 'Burns':\n",
        "    incrementer[26] = incrementer[26]+1\n",
        "    \n",
        "print('The most common type of incident was Other of which there were',incrementer[0],'incidents. After that the most common type of incident was Heat Illness and Dehydration of which there were',incrementer[5],'cases.')"
      ],
      "execution_count": 0,
      "outputs": [
        {
          "output_type": "stream",
          "text": [
            "The most common type of incident was Other of which there were 488 incidents. After that the most common type of incident was Heat Illness and Dehydration of which there were 94 cases.\n"
          ],
          "name": "stdout"
        }
      ]
    },
    {
      "cell_type": "code",
      "metadata": {
        "id": "mQfWt-HRcSDO",
        "colab_type": "code",
        "outputId": "c393b223-a062-46c3-a050-fcb53c448493",
        "colab": {
          "base_uri": "https://localhost:8080/",
          "height": 55
        }
      },
      "source": [
        "#What is the most common notification method used to report an incident to YOSAR?\n",
        "methods = [] #Empty list to keep track of unique notification methods\n",
        "incrementer1 = [0]*11 #Empty list to keep track of how many times a notification method was used\n",
        "for idx, val in dfedited.iterrows(): #Increment through data and find the types of unique reporting methods\n",
        "  k = val['Notification']\n",
        "  if k in methods:\n",
        "    pass\n",
        "  else:\n",
        "    methods.append(k)\n",
        "\n",
        "for idx, val in dfedited.iterrows(): #Increment through data and find how many times each unique method of reporting an incident was used\n",
        "  k = val['Notification']\n",
        "  if k == 'Cell':\n",
        "    incrementer1[0] = incrementer1[0]+1\n",
        "  elif k == 'In Person':\n",
        "    incrementer1[1] = incrementer1[1]+1\n",
        "  elif k == 'Unknown':\n",
        "    incrementer1[2] = incrementer1[2]+1\n",
        "  elif k == 'Radio':\n",
        "    incrementer1[3] = incrementer1[3]+1\n",
        "  elif k == 'Telephone':\n",
        "    incrementer1[4] = incrementer1[4]+1\n",
        "  elif k == ' ':\n",
        "    incrementer1[5] = incrementer1[5]+1\n",
        "  elif k == 'Other':\n",
        "    incrementer1[6] = incrementer1[6]+1\n",
        "  elif k == 'Marine/Citizens Band Radio':\n",
        "    incrementer1[7] = incrementer1[7]+1\n",
        "  elif k == 'Satellite Phone':\n",
        "    incrementer1[8] =incrementer1[8]+1\n",
        "  elif k == 'Personal Locator Beacon':\n",
        "    incrementer1[9] = incrementer1[9]+1\n",
        "  elif k == 'nan':\n",
        "    incrementer1[10] = incrementer1[10]+1\n",
        "    \n",
        "print('The most common notification method to report an incident to YOSAR is Cell with', incrementer[0], 'incidents being reported this way.')"
      ],
      "execution_count": 0,
      "outputs": [
        {
          "output_type": "stream",
          "text": [
            "The most common notification method to report an incident to YOSAR is Cell with 488 incidents being reported this way.\n"
          ],
          "name": "stdout"
        }
      ]
    },
    {
      "cell_type": "code",
      "metadata": {
        "id": "XXrSWVsPtsE1",
        "colab_type": "code",
        "outputId": "79bacc31-d493-4fed-cfe8-2b4a5bba7689",
        "colab": {
          "base_uri": "https://localhost:8080/",
          "height": 55
        }
      },
      "source": [
        "#Do more males or females get into accidents?\n",
        "\n",
        "#Initializing variable\n",
        "females = 0\n",
        "males = 0\n",
        "multiple = 0\n",
        "unknown = 0\n",
        "other = 0\n",
        "Else = 0\n",
        "genders = []\n",
        "\n",
        "for idx, val in dfedited.iterrows(): #Increment through data looking at Victim Gender\n",
        "  k = val['Victim Gender']\n",
        "  if k in genders: #Incrementing a counter based on the Victim Gender in the data\n",
        "    if k == 'Male':\n",
        "      males = males + 1\n",
        "    elif k == 'Female':\n",
        "      females = females + 1\n",
        "    elif k == 'More than one person':\n",
        "      multiple = multiple + 1\n",
        "    elif k == 'Unknown':\n",
        "      unknown = unknown + 1\n",
        "    elif k == 'Other':\n",
        "      other = other + 1\n",
        "    else:\n",
        "      Else = Else + 1\n",
        "  else:\n",
        "    genders.append(k)\n",
        "    \n",
        "print('Males get into the most number of incidents with', males, 'of the incidents having Victim Gender of Male. Females on the other hand got into', females, 'incidents. And', multiple, 'incidents had more than one person involveed.')"
      ],
      "execution_count": 0,
      "outputs": [
        {
          "output_type": "stream",
          "text": [
            "Males get into the most number of incidents with 957 of the incidents having Victim Gender of Male. Females on the other hand got into 694 incidents. And 206 incidents had more than one person involveed.\n"
          ],
          "name": "stdout"
        }
      ]
    },
    {
      "cell_type": "code",
      "metadata": {
        "id": "xz_zYjQpsCKR",
        "colab_type": "code",
        "outputId": "a15185b8-b67c-4a01-8152-88df8da82f09",
        "colab": {
          "base_uri": "https://localhost:8080/",
          "height": 72
        }
      },
      "source": [
        "#Most common contributing factor?\n",
        "factors = dfedited['Contributing Factors'].unique() #gets the unique contributing factors\n",
        "increment3 = [0]*22 #Creates a list of 0 to increment how many times a contributing factor was logged\n",
        "\n",
        "for idx, val in dfedited.iterrows(): #Increment through data looking at Contributing Factors\n",
        "  k = val['Contributing Factors']\n",
        "  if k == 'Insufficient Information/Error in Judgement': #Increment what type of contributing factor it was\n",
        "    increment3[0] = increment3[0] + 1\n",
        "  elif k == 'Lightning':\n",
        "    increment3[1] = increment3[1] + 1\n",
        "  elif k == 'Unknown':\n",
        "    increment3[2] = increment3[2] + 1\n",
        "  elif k == 'Natural Event (Other)':\n",
        "    increment3[3] = increment3[3] + 1\n",
        "  elif k == 'Above Ground Level Fall':\n",
        "    increment3[4] = increment3[4] + 1\n",
        "  elif k == 'Weather - Visibility':\n",
        "    increment3[5] = increment3[5] + 1\n",
        "  elif k == 'Ground Level Fall':\n",
        "    increment3[6] = increment3[6] + 1\n",
        "  elif k == 'Fatigue/Physical Condition':\n",
        "    increment3[7] = increment3[7] + 1\n",
        "  elif k == 'Snow/Ice':\n",
        "    increment3[8] = increment3[8] + 1\n",
        "  elif k == 'Insufficient Equipment/Clothing/Experience':\n",
        "    increment3[9] = increment3[9] + 1\n",
        "  elif k == 'Animals':\n",
        "    increment3[10] = increment3[10] + 1\n",
        "  elif k == 'Rockfall':\n",
        "    increment3[11] = increment3[11] + 1\n",
        "  elif k == 'Flood':\n",
        "    increment3[12] = increment3[12] + 1\n",
        "  elif k == 'Weather - Heat':\n",
        "    increment3[13] = increment3[13] + 1\n",
        "  elif k == ' ':\n",
        "    increment3[14] = increment3[14] + 1\n",
        "  elif k == 'Weather - Cold':\n",
        "    increment3[15] = increment3[15] + 1\n",
        "  elif k == 'Darkness':\n",
        "    increment3[16] = increment3[16] + 1\n",
        "  elif k == 'Equipment':\n",
        "    increment3[17] = increment3[17] + 1\n",
        "  elif k == 'Avalanche':\n",
        "    increment3[18] = increment3[18] + 1\n",
        "  elif k == 'Drugs':\n",
        "    increment3[19] = increment3[19] + 1\n",
        "  elif k == 'nan':\n",
        "    increment3[20] = increment3[20] + 1\n",
        "  elif k == 'Fire':\n",
        "    increment3[21] = increment3[21] + 1\n",
        "    \n",
        "maxindex = np.argmax(increment3) #returns index of highest increment (number of times a contribting factor came up)\n",
        "factors[maxindex]\n",
        "\n",
        "print('The most common contributing factor is', factors[maxindex], 'of which there were', increment3[maxindex], 'incidents.')\n",
        "print('The second most common contributing factor is', factors[6], 'of whcih there were', increment3[6], 'incidents.')"
      ],
      "execution_count": 0,
      "outputs": [
        {
          "output_type": "stream",
          "text": [
            "The most common contributing factor is Unknown of which there were 740 incidents.\n",
            "The second most common contributing factor is Ground Level Fall of whcih there were 335 incidents.\n"
          ],
          "name": "stdout"
        }
      ]
    },
    {
      "cell_type": "code",
      "metadata": {
        "id": "LsQct9hKyVIo",
        "colab_type": "code",
        "outputId": "02e80877-5092-434c-c297-f58623a6b702",
        "colab": {
          "base_uri": "https://localhost:8080/",
          "height": 35
        }
      },
      "source": [
        "#Most common rescue method used?\n",
        "rescuemethods = dfedited['Rescue Method'].unique() #gets the unique types of rescue methods used\n",
        "increment4 = [0]*18 #creates a list of 0 to keep track of how many times a rescue method was used\n",
        "\n",
        "for idx, val in dfedited.iterrows(): #Increment through data looking at Rescue Method\n",
        "  k = val['Rescue Method']\n",
        "  if k == 'Technical': #Increment what type of rescue method was used\n",
        "    increment4[0] = increment4[0] + 1\n",
        "  elif k == 'Hike':\n",
        "    increment4[1] = increment4[1] + 1\n",
        "  elif k == 'Ski/Snowshoe':\n",
        "    increment4[2] = increment4[2] + 1\n",
        "  elif k == 'Litter Carryout':\n",
        "    increment4[3] = increment4[3] + 1\n",
        "  elif k == 'Other':\n",
        "    increment4[4] = increment4[4] + 1\n",
        "  elif k == 'Helicopter Rescue':\n",
        "    increment4[5] = increment4[5] + 1\n",
        "  elif k == 'Unknown':\n",
        "    increment4[6] = increment4[6] + 1\n",
        "  elif k == 'Snow Vehicle':\n",
        "    increment4[7] = increment4[7] + 1\n",
        "  elif k == 'Dogs':\n",
        "    increment4[8] = increment4[8] + 1\n",
        "  elif k == 'Helicopter Evacuation':\n",
        "    increment4[9] = increment4[9] + 1\n",
        "  elif k == 'Land Vehicle':\n",
        "    increment4[10] = increment4[10] + 1\n",
        "  elif k == 'Stock':\n",
        "    increment4[11] = increment4[11] + 1\n",
        "  elif k == 'Watercraft':\n",
        "    increment4[12] = increment4[12] + 1\n",
        "  elif k == 'Swimming/Wading':\n",
        "    increment4[13] = increment4[13] + 1\n",
        "  elif k == ' ':\n",
        "    increment4[14] = increment4[14] + 1\n",
        "  elif k == 'Aircraft - Fixed Wing':\n",
        "    increment4[15] = increment4[15] + 1\n",
        "  elif k == 'Dive/SCUBA':\n",
        "    increment4[16] = increment4[16] + 1\n",
        "  elif k == 'nan':\n",
        "    increment4[17] = increment4[17] + 1\n",
        "    \n",
        "maxindex1 = np.argmax(increment4) #returns index of highest increment (most common rescue method)\n",
        "print('The most common recue method used is a', rescuemethods[maxindex1], 'which was used', increment4[maxindex1], 'times.')"
      ],
      "execution_count": 0,
      "outputs": [
        {
          "output_type": "stream",
          "text": [
            "The most common recue method used is a Hike which was used 543 times.\n"
          ],
          "name": "stdout"
        }
      ]
    },
    {
      "cell_type": "code",
      "metadata": {
        "id": "obO8dQaV2Dz3",
        "colab_type": "code",
        "outputId": "7cfec1a2-ed23-4d5d-c2c1-a58c68a01d6c",
        "colab": {
          "base_uri": "https://localhost:8080/",
          "height": 55
        }
      },
      "source": [
        "#Most common search type?\n",
        "searchtype = dfedited['Search Type'].unique() #list of unique search types employed\n",
        "increment5 = [0]*len(searchtype) #creates a list of 0 to increment how many times each search method was used\n",
        "\n",
        "for idx, val in dfedited.iterrows():\n",
        "  k = val['Search Type']\n",
        "  if k == 'Not a Search':\n",
        "    increment5[0] = increment5[0] + 1\n",
        "  elif k == 'Land':\n",
        "    increment5[1] = increment5[1] + 1\n",
        "  elif k == 'River':\n",
        "    increment5[2] = increment5[2] + 1\n",
        "  elif k == 'Unknown':\n",
        "    increment5[3] = increment5[3] + 1\n",
        "  elif k == 'Lake':\n",
        "    increment5[4] = increment5[4] + 1\n",
        "  elif k == ' ':\n",
        "    increment5[5] = increment5[5] + 1\n",
        "    \n",
        "print('The majority of incidents, about', increment5[0],', did not result in a search. Of the incidents that did result in a search most of the searches were conducted by Land.', increment5[1], 'searches were conducted by land.')"
      ],
      "execution_count": 0,
      "outputs": [
        {
          "output_type": "stream",
          "text": [
            "The majority of incidents, about 1157 , did not result in a search. Of the incidents that did result in a search most of the searches were conducted by Land. 212 searches were conducted by land.\n"
          ],
          "name": "stdout"
        }
      ]
    },
    {
      "cell_type": "code",
      "metadata": {
        "id": "wqnYV8ec4_Ua",
        "colab_type": "code",
        "outputId": "cae2cb1c-f142-43eb-9682-bcabc0de18a8",
        "colab": {
          "base_uri": "https://localhost:8080/",
          "height": 90
        }
      },
      "source": [
        "#IMPORTANT: If running into an error because victim age is the index (from a later question) run last cell in data section again\n",
        "\n",
        "#What age gets into the most incidents? What is the youngest Victim Age? What is the oldest Victim Age?\n",
        "ages = dfedited['Victim Age'].unique() #what unique ages got into accidents\n",
        "ages.sort() #sort the ages from youngest to oldest\n",
        "frequencies = dfedited['Victim Age'].value_counts() #returns the frequency of how many times a certain age was in a reported incident\n",
        "\n",
        "print('The most common Victim Age is 0 years old. From 2001 to 2011 there were', frequencies.max(), 'incidents where the Victim Age was 0 years old.')\n",
        "print('In addition to the most common victim age, 0 years old is also the youngest victim age recorded.')\n",
        "print('The oldest victim age recorded in this data is', ages[-2], 'years old.')"
      ],
      "execution_count": 0,
      "outputs": [
        {
          "output_type": "stream",
          "text": [
            "The most common Victim Age is 0 years old. From 2001 to 2011 there were 629 incidents where the Victim Age was 0 years old.\n",
            "In addition to the most common victim age, 0 years old is also the youngest victim age recorded.\n",
            "The oldest victim age recorded in this data is 86 years old.\n"
          ],
          "name": "stdout"
        }
      ]
    },
    {
      "cell_type": "code",
      "metadata": {
        "id": "trHv4y1o8gYT",
        "colab_type": "code",
        "outputId": "308db3e4-5768-4853-8a26-96e941a32ba6",
        "colab": {
          "base_uri": "https://localhost:8080/",
          "height": 55
        }
      },
      "source": [
        "#Most dangerous place in Yosemite?\n",
        "locations = dfedited['Georeference Locality'].unique() #all of the unique locations of incidents\n",
        "freq = dfedited['Georeference Locality'].value_counts() #returns the frequency of how many times an incident occurs at a location\n",
        "print('The place where the most of these incidents occured at is the Vernal Falls Footbridge.', freq.max(), 'incidents occured here.')"
      ],
      "execution_count": 0,
      "outputs": [
        {
          "output_type": "stream",
          "text": [
            "The place where the most of these incidents occured at is the Vernal Falls Footbridge. 92 incidents occured here.\n"
          ],
          "name": "stdout"
        }
      ]
    },
    {
      "cell_type": "code",
      "metadata": {
        "id": "GEg89VCi_4um",
        "colab_type": "code",
        "outputId": "f2cc63fa-6926-4580-b317-94b6ee88562b",
        "colab": {
          "base_uri": "https://localhost:8080/",
          "height": 90
        }
      },
      "source": [
        "#What is the most common type of accident for 21 year olds?\n",
        "\n",
        "#dfedited.set_index('Victim Age', inplace=True) #IMPORTANT: Only run once at the beginning of the first time running this cell to change dfedited index to Victim Age\n",
        "\n",
        "df21 = dfedited.loc[21] #creates a new dataset of incidents for 21 year olds only\n",
        "accidentfreq = df21['Medical or Injury Type'].value_counts() #returns frequency of medical or injury type in new dataset\n",
        "accidentfreq1 = df21['Incident Type'].value_counts() #returns frequency of incident type in new dataset\n",
        "\n",
        "print('Overall there were', len(df21), 'incidents for 21 year olds in Yosemite from 2001 to 2011.')\n",
        "print('For 21 year olds the most common type of medical injury type was Minor or Extremity Trauma - Lower. There were', accidentfreq.max(), 'of these incidents.')\n",
        "print('For 21 year olds the most common type of incident was a Carry Out. There were', accidentfreq1.max(), 'of these reported.')"
      ],
      "execution_count": 0,
      "outputs": [
        {
          "output_type": "stream",
          "text": [
            "Overall there were 26 incidents for 21 year olds in Yosemite from 2001 to 2011.\n",
            "For 21 year olds the most common type of medical injury type was Minor or Extremity Trauma - Lower. There were 7 of these incidents.\n",
            "For 21 year olds the most common type of incident was a Carry Out. There were 7 of these reported.\n"
          ],
          "name": "stdout"
        }
      ]
    },
    {
      "cell_type": "markdown",
      "metadata": {
        "id": "O34gMp4HGa-a",
        "colab_type": "text"
      },
      "source": [
        "IMPORTANT: Re-run last cell in \"The Data\" section to change dfedited index back to Object ID from Victim Age after the last question"
      ]
    },
    {
      "cell_type": "code",
      "metadata": {
        "id": "BcRCcmf5G374",
        "colab_type": "code",
        "outputId": "1853ab25-3dda-4063-b0ad-8d57600783c9",
        "colab": {
          "base_uri": "https://localhost:8080/",
          "height": 35
        }
      },
      "source": [
        "#What activity results in the most accidents?\n",
        "freqactivity = dfedited['Victim Activity'].value_counts() #returns frequency of various activities\n",
        "\n",
        "print('The activity that results in the most incidents is Hiking - Day Walking. From 2001 to 2011 there were', freqactivity.max(), 'of these incidents.')"
      ],
      "execution_count": 360,
      "outputs": [
        {
          "output_type": "stream",
          "text": [
            "The activity that results in the most incidents is Hiking - Day Walking. From 2001 to 2011 there were 1023 of these incidents.\n"
          ],
          "name": "stdout"
        }
      ]
    },
    {
      "cell_type": "code",
      "metadata": {
        "id": "gcn9vWUvHzjt",
        "colab_type": "code",
        "outputId": "b9bad0d8-9182-4377-aef5-3dda636ca61f",
        "colab": {
          "base_uri": "https://localhost:8080/",
          "height": 35
        }
      },
      "source": [
        "#How many accidents did climbing result in?\n",
        "print('Climbing while roped in resulted in', freqactivity[3], 'accidents. Climbing while unroped resulted in', freqactivity[10], 'incidents.')"
      ],
      "execution_count": 361,
      "outputs": [
        {
          "output_type": "stream",
          "text": [
            "Climbing while roped in resulted in 128 accidents. Climbing while unroped resulted in 13 incidents.\n"
          ],
          "name": "stdout"
        }
      ]
    },
    {
      "cell_type": "code",
      "metadata": {
        "id": "urNM2bziwFBc",
        "colab_type": "code",
        "outputId": "6a0a8ca2-1068-4359-c7b0-3611e37ac5ae",
        "colab": {
          "base_uri": "https://localhost:8080/",
          "height": 35
        }
      },
      "source": [
        "#What year had the most accidents?\n",
        "incidentyears = [] #Initialized empty list to keep track of what years incidents were reported in\n",
        "incrementer2 = [0]*11 #List of 0 to keep track of how many incidents occured in each year\n",
        "for idx, val in dfedited.iterrows(): #Increment through data looking at Incident Year\n",
        "  k = val['Incident Year']\n",
        "  if k in incidentyears:\n",
        "    pass\n",
        "  else:\n",
        "    incidentyears.append(k)\n",
        "    \n",
        "for idx, val in dfedited.iterrows(): #Increment through data looking at Incident Year\n",
        "  k = val['Incident Year']\n",
        "  if k == 2001:\n",
        "    incrementer2[0] = incrementer2[0]+1\n",
        "  elif k == 2002:\n",
        "    incrementer2[1] = incrementer2[1]+1\n",
        "  elif k == 2003:\n",
        "    incrementer2[2] = incrementer2[2]+1\n",
        "  elif k == 2004:\n",
        "    incrementer2[3] = incrementer2[3]+1\n",
        "  elif k == 2005:\n",
        "    incrementer2[4] = incrementer2[4]+1\n",
        "  elif k == 2006:\n",
        "    incrementer2[5] = incrementer2[5]+1\n",
        "  elif k == 2007:\n",
        "    incrementer2[6] = incrementer2[6]+1\n",
        "  elif k == 2008:\n",
        "    incrementer2[7] = incrementer2[7]+1\n",
        "  elif k == 2009:\n",
        "    incrementer2[8] = incrementer2[8]+1\n",
        "  elif k == 2010:\n",
        "    incrementer2[9] = incrementer2[9]+1\n",
        "  elif k == 2011:\n",
        "    incrementer2[10] = incrementer2[10]+1\n",
        "\n",
        "print('2008 had the most number of incidents with', incrementer2[7], 'incidents. 2009 was very close behind though, with', incrementer2[8], 'incidents. The year with the least number of reported incidents was 2005 with', incrementer2[4], 'incidents.')"
      ],
      "execution_count": 362,
      "outputs": [
        {
          "output_type": "stream",
          "text": [
            "2008 had the most number of incidents with 233 incidents. 2009 was very close behind though, with 232 incidents. The year with the least number of reported incidents was 2005 with 18 incidents.\n"
          ],
          "name": "stdout"
        }
      ]
    },
    {
      "cell_type": "code",
      "metadata": {
        "id": "5J8SEARSI8fi",
        "colab_type": "code",
        "outputId": "f9f0b0be-244a-424d-dc97-17ccee2e822d",
        "colab": {
          "base_uri": "https://localhost:8080/",
          "height": 239
        }
      },
      "source": [
        "#What season (Summer, Winter, Fall, or Spring) in the year with the most accidents had the most incidents?\n",
        "\n",
        "#dfedited.set_index('Incident Year', inplace=True) #IMPORTANT: Only run once at the beginning of the first time running this cell to change dfedited index to Incident Year\n",
        "\n",
        "df2008 = dfedited.loc[2008] #creates a new dataset for only the year 2008\n",
        "index = pd.Index(range(0,233))\n",
        "df2008.set_index(index, inplace=True) #make index range 0 to 233 of new data set incremented by one\n",
        "\n",
        "months = [] #creates an empty list to hold all of the months an incident occured in\n",
        "a = 0 #initialize counter\n",
        "for idx, val in df2008.iterrows():\n",
        "  b = df2008['Date Initiated'][a] #look at the Date Initiated\n",
        "  month = b[0]+b[1] #look at the first two values in Date Initiated (month)\n",
        "  months.append(month) #add to months list\n",
        "  a = a + 1 #increment counter\n",
        "  \n",
        "my_df = pd.DataFrame(\n",
        "        {'Months': months\n",
        "        }) #make months into a data frame so can use frequency function to analyze it\n",
        "freqmonth = my_df['Months'].value_counts() #analyze for frequency of how often a month occurs\n",
        "summer=freqmonth[0]+freqmonth[1]+freqmonth[2]\n",
        "print('The season in 2008 with the most accidents was Summer with', summer, 'incidents.')\n",
        "\n",
        "\n",
        "#This code block will return an error saying \"'float' object is not subscriptable\" ... this is okay. Run the next code block for the answer to the question"
      ],
      "execution_count": 365,
      "outputs": [
        {
          "output_type": "error",
          "ename": "TypeError",
          "evalue": "ignored",
          "traceback": [
            "\u001b[0;31m---------------------------------------------------------------------------\u001b[0m",
            "\u001b[0;31mTypeError\u001b[0m                                 Traceback (most recent call last)",
            "\u001b[0;32m<ipython-input-365-b2e95a637d5d>\u001b[0m in \u001b[0;36m<module>\u001b[0;34m()\u001b[0m\n\u001b[1;32m      8\u001b[0m \u001b[0;32mfor\u001b[0m \u001b[0midx\u001b[0m\u001b[0;34m,\u001b[0m \u001b[0mval\u001b[0m \u001b[0;32min\u001b[0m \u001b[0mdf2008\u001b[0m\u001b[0;34m.\u001b[0m\u001b[0miterrows\u001b[0m\u001b[0;34m(\u001b[0m\u001b[0;34m)\u001b[0m\u001b[0;34m:\u001b[0m\u001b[0;34m\u001b[0m\u001b[0;34m\u001b[0m\u001b[0m\n\u001b[1;32m      9\u001b[0m   \u001b[0mb\u001b[0m \u001b[0;34m=\u001b[0m \u001b[0mdf2008\u001b[0m\u001b[0;34m[\u001b[0m\u001b[0;34m'Date Initiated'\u001b[0m\u001b[0;34m]\u001b[0m\u001b[0;34m[\u001b[0m\u001b[0ma\u001b[0m\u001b[0;34m]\u001b[0m \u001b[0;31m#look at the Date Initiated\u001b[0m\u001b[0;34m\u001b[0m\u001b[0;34m\u001b[0m\u001b[0m\n\u001b[0;32m---> 10\u001b[0;31m   \u001b[0mmonth\u001b[0m \u001b[0;34m=\u001b[0m \u001b[0mb\u001b[0m\u001b[0;34m[\u001b[0m\u001b[0;36m0\u001b[0m\u001b[0;34m]\u001b[0m\u001b[0;34m+\u001b[0m\u001b[0mb\u001b[0m\u001b[0;34m[\u001b[0m\u001b[0;36m1\u001b[0m\u001b[0;34m]\u001b[0m \u001b[0;31m#look at the first two values in Date Initiated (month)\u001b[0m\u001b[0;34m\u001b[0m\u001b[0;34m\u001b[0m\u001b[0m\n\u001b[0m\u001b[1;32m     11\u001b[0m   \u001b[0mmonths\u001b[0m\u001b[0;34m.\u001b[0m\u001b[0mappend\u001b[0m\u001b[0;34m(\u001b[0m\u001b[0mmonth\u001b[0m\u001b[0;34m)\u001b[0m \u001b[0;31m#add to months list\u001b[0m\u001b[0;34m\u001b[0m\u001b[0;34m\u001b[0m\u001b[0m\n\u001b[1;32m     12\u001b[0m   \u001b[0ma\u001b[0m \u001b[0;34m=\u001b[0m \u001b[0ma\u001b[0m \u001b[0;34m+\u001b[0m \u001b[0;36m1\u001b[0m \u001b[0;31m#increment counter\u001b[0m\u001b[0;34m\u001b[0m\u001b[0;34m\u001b[0m\u001b[0m\n",
            "\u001b[0;31mTypeError\u001b[0m: 'float' object is not subscriptable"
          ]
        }
      ]
    },
    {
      "cell_type": "code",
      "metadata": {
        "id": "tDsbaKsyimP4",
        "colab_type": "code",
        "colab": {
          "base_uri": "https://localhost:8080/",
          "height": 35
        },
        "outputId": "c5f09398-bb64-44b7-8c21-f7a768e15817"
      },
      "source": [
        "summer=freqmonth[0]+freqmonth[1]+freqmonth[2]\n",
        "print('The season in 2008 with the most accidents was Summer with', summer, 'incidents.')"
      ],
      "execution_count": 366,
      "outputs": [
        {
          "output_type": "stream",
          "text": [
            "The season in 2008 with the most accidents was Summer with 142 incidents.\n"
          ],
          "name": "stdout"
        }
      ]
    },
    {
      "cell_type": "code",
      "metadata": {
        "id": "c_KJtHR0eY6L",
        "colab_type": "code",
        "colab": {
          "base_uri": "https://localhost:8080/",
          "height": 35
        },
        "outputId": "bfea42db-782d-4cfd-b852-14003d4e995d"
      },
      "source": [
        "#What month in 2008 had the most incidents?\n",
        "print('July was the month in 2008 with the most incidents. There were 52 incidents reported to YOSAR.')"
      ],
      "execution_count": 367,
      "outputs": [
        {
          "output_type": "stream",
          "text": [
            "July was the month in 2008 with the most incidents. There were 52 incidents reported to YOSAR.\n"
          ],
          "name": "stdout"
        }
      ]
    },
    {
      "cell_type": "code",
      "metadata": {
        "id": "LGWOnsRokiFO",
        "colab_type": "code",
        "colab": {
          "base_uri": "https://localhost:8080/",
          "height": 35
        },
        "outputId": "e1ec1246-5137-4a02-f79a-704d08230d25"
      },
      "source": [
        "#Most common type of accident in 2008?\n",
        "accidentfreq2008 = df2008['Incident Type'].value_counts()\n",
        "\n",
        "print('The most common type of accident in 2008 was a Carry Out of which there were', accidentfreq2008[0], 'incidents.')"
      ],
      "execution_count": 368,
      "outputs": [
        {
          "output_type": "stream",
          "text": [
            "The most common type of accident in 2008 was a Carry Out of which there were 59 incidents.\n"
          ],
          "name": "stdout"
        }
      ]
    }
  ]
}